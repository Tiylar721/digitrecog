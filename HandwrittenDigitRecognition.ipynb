{
  "nbformat": 4,
  "nbformat_minor": 0,
  "metadata": {
    "colab": {
      "provenance": [],
      "gpuType": "T4",
      "authorship_tag": "ABX9TyOgZG3K++B6SjNUh1Ilxrhi",
      "include_colab_link": true
    },
    "kernelspec": {
      "name": "python3",
      "display_name": "Python 3"
    },
    "language_info": {
      "name": "python"
    },
    "accelerator": "GPU"
  },
  "cells": [
    {
      "cell_type": "markdown",
      "metadata": {
        "id": "view-in-github",
        "colab_type": "text"
      },
      "source": [
        "<a href=\"https://colab.research.google.com/github/Tiylar721/digitrecog/blob/main/HandwrittenDigitRecognition.ipynb\" target=\"_parent\"><img src=\"https://colab.research.google.com/assets/colab-badge.svg\" alt=\"Open In Colab\"/></a>"
      ]
    },
    {
      "cell_type": "code",
      "execution_count": null,
      "metadata": {
        "id": "vyM7SfW3vFEh"
      },
      "outputs": [],
      "source": [
        "import torch\n",
        "from torchvision import datasets\n",
        "from torchvision.transforms import ToTensor"
      ]
    },
    {
      "cell_type": "code",
      "source": [
        "train_data = datasets.MNIST(\n",
        "    root='data',\n",
        "    train=True,\n",
        "    transform=ToTensor(),\n",
        "    download=True\n",
        ")\n",
        "\n",
        "test_data = datasets.MNIST(\n",
        "    root='data',\n",
        "    train=False,\n",
        "    transform=ToTensor(),\n",
        "    download=True\n",
        ")"
      ],
      "metadata": {
        "colab": {
          "base_uri": "https://localhost:8080/"
        },
        "id": "5L2IQgnIv3Hg",
        "outputId": "d9296056-1d0c-4edf-c774-721a3fb8c26c"
      },
      "execution_count": null,
      "outputs": [
        {
          "output_type": "stream",
          "name": "stdout",
          "text": [
            "Downloading http://yann.lecun.com/exdb/mnist/train-images-idx3-ubyte.gz\n",
            "Downloading http://yann.lecun.com/exdb/mnist/train-images-idx3-ubyte.gz to data/MNIST/raw/train-images-idx3-ubyte.gz\n"
          ]
        },
        {
          "output_type": "stream",
          "name": "stderr",
          "text": [
            "100%|██████████| 9912422/9912422 [00:00<00:00, 93994007.19it/s]\n"
          ]
        },
        {
          "output_type": "stream",
          "name": "stdout",
          "text": [
            "Extracting data/MNIST/raw/train-images-idx3-ubyte.gz to data/MNIST/raw\n",
            "\n",
            "Downloading http://yann.lecun.com/exdb/mnist/train-labels-idx1-ubyte.gz\n",
            "Downloading http://yann.lecun.com/exdb/mnist/train-labels-idx1-ubyte.gz to data/MNIST/raw/train-labels-idx1-ubyte.gz\n"
          ]
        },
        {
          "output_type": "stream",
          "name": "stderr",
          "text": [
            "100%|██████████| 28881/28881 [00:00<00:00, 121989621.17it/s]\n"
          ]
        },
        {
          "output_type": "stream",
          "name": "stdout",
          "text": [
            "Extracting data/MNIST/raw/train-labels-idx1-ubyte.gz to data/MNIST/raw\n",
            "\n",
            "Downloading http://yann.lecun.com/exdb/mnist/t10k-images-idx3-ubyte.gz\n",
            "Downloading http://yann.lecun.com/exdb/mnist/t10k-images-idx3-ubyte.gz to data/MNIST/raw/t10k-images-idx3-ubyte.gz\n"
          ]
        },
        {
          "output_type": "stream",
          "name": "stderr",
          "text": [
            "100%|██████████| 1648877/1648877 [00:00<00:00, 24280854.11it/s]\n"
          ]
        },
        {
          "output_type": "stream",
          "name": "stdout",
          "text": [
            "Extracting data/MNIST/raw/t10k-images-idx3-ubyte.gz to data/MNIST/raw\n",
            "\n",
            "Downloading http://yann.lecun.com/exdb/mnist/t10k-labels-idx1-ubyte.gz\n",
            "Downloading http://yann.lecun.com/exdb/mnist/t10k-labels-idx1-ubyte.gz to data/MNIST/raw/t10k-labels-idx1-ubyte.gz\n"
          ]
        },
        {
          "output_type": "stream",
          "name": "stderr",
          "text": [
            "100%|██████████| 4542/4542 [00:00<00:00, 23063594.15it/s]\n"
          ]
        },
        {
          "output_type": "stream",
          "name": "stdout",
          "text": [
            "Extracting data/MNIST/raw/t10k-labels-idx1-ubyte.gz to data/MNIST/raw\n",
            "\n"
          ]
        }
      ]
    },
    {
      "cell_type": "code",
      "source": [
        "from torch.utils.data import DataLoader\n",
        "\n",
        "loaders = {\n",
        "    'train': DataLoader(train_data,\n",
        "                        batch_size=100,\n",
        "                        shuffle=True,\n",
        "                        num_workers=1),\n",
        "    'test': DataLoader(test_data,\n",
        "                        batch_size=100,\n",
        "                        shuffle=True,\n",
        "                        num_workers=1),\n",
        "}"
      ],
      "metadata": {
        "id": "9h6_iHaLwKrh"
      },
      "execution_count": null,
      "outputs": []
    },
    {
      "cell_type": "code",
      "source": [
        "import torch.nn as nn\n",
        "import torch.nn.functional as F\n",
        "import torch.optim as optim\n",
        "\n",
        "class CNN(nn.Module):\n",
        "\n",
        "  def __init__(self):\n",
        "    super(CNN, self).__init__()\n",
        "\n",
        "    self.conv1 = nn.Conv2d(1, 10, kernel_size=5)\n",
        "    self.conv2 = nn.Conv2d(10, 20, kernel_size=5)\n",
        "    self.conv2_drop = nn.Dropout2d()\n",
        "    self.fc1 = nn.Linear(320, 50)\n",
        "    self.fc2 = nn.Linear(50, 10)\n",
        "\n",
        "  def forward(self, x):\n",
        "    x = F.relu(F.max_pool2d(self.conv1(x), 2))\n",
        "    x = F.relu(F.max_pool2d(self.conv2_drop(self.conv2(x)), 2))\n",
        "    x = x.view(-1, 320)\n",
        "    x = F.relu(self.fc1(x))\n",
        "    x = F.dropout(x, training=self.training)\n",
        "    x=self.fc2(x)\n",
        "\n",
        "    return F.softmax(x)"
      ],
      "metadata": {
        "id": "0NLBTrWwwRA_"
      },
      "execution_count": null,
      "outputs": []
    },
    {
      "cell_type": "code",
      "source": [
        "device = torch.device('cuda' if torch.cuda.is_available() else 'cpu')\n",
        "\n",
        "model = CNN().to(device)\n",
        "\n",
        "optimizer = optim.Adam(model.parameters(), lr=0.001)\n",
        "\n",
        "loss_fn = nn.CrossEntropyLoss()\n",
        "\n",
        "def train(epoch):\n",
        "  model.train()\n",
        "  for batch_idx, (data, target) in enumerate(loaders['train']):\n",
        "    data, target = data.to(device), target.to(device)\n",
        "    optimizer.zero_grad()\n",
        "    output = model(data)\n",
        "    loss = loss_fn(output, target)\n",
        "    loss.backward()\n",
        "    optimizer.step()\n",
        "    if batch_idx % 20 == 0:\n",
        "      print(f'Train Epoch: {epoch} [{batch_idx * len(data)}/{len(loaders[\"train\"].dataset)} ({100. * batch_idx / len(loaders[\"train\"]):.0f}%)]\\t{loss.item():.6f}')\n",
        "\n",
        "def test():\n",
        "  model.eval()\n",
        "\n",
        "  test_loss = 0\n",
        "  correct = 0\n",
        "\n",
        "  with torch.no_grad():\n",
        "    for data, target in loaders['test']:\n",
        "      data, target = data.to(device), target.to(device)\n",
        "      output = model(data)\n",
        "      test_loss += loss_fn(output, target).item()\n",
        "      pred = output.argmax(dim=1, keepdim=True)\n",
        "      correct += pred.eq(target.view_as(pred)).sum().item()\n",
        "\n",
        "  test_loss/= len(loaders['test'].dataset)\n",
        "  print(f'\\nTest set: Average loss: {test_loss: .4f}, Accuracy {correct}/{len(loaders[\"test\"].dataset)} ({100. * correct / len(loaders[\"test\"].dataset):.0f}%\\n)')"
      ],
      "metadata": {
        "id": "L2l7MnFHyplF"
      },
      "execution_count": null,
      "outputs": []
    },
    {
      "cell_type": "code",
      "source": [
        "for epoch in range(1,11):\n",
        "  train(epoch)\n",
        "  test()"
      ],
      "metadata": {
        "colab": {
          "base_uri": "https://localhost:8080/"
        },
        "id": "p0Q8MUiN3miS",
        "outputId": "3d08e808-c26d-4a6f-e841-7e50d4b7f257"
      },
      "execution_count": null,
      "outputs": [
        {
          "output_type": "stream",
          "name": "stderr",
          "text": [
            "<ipython-input-6-eddcbdcee1af>:24: UserWarning: Implicit dimension choice for softmax has been deprecated. Change the call to include dim=X as an argument.\n",
            "  return F.softmax(x)\n"
          ]
        },
        {
          "output_type": "stream",
          "name": "stdout",
          "text": [
            "Train Epoch: 1 [0/60000 (0%)]\t2.302384\n",
            "Train Epoch: 1 [2000/60000 (3%)]\t2.289567\n",
            "Train Epoch: 1 [4000/60000 (7%)]\t2.190652\n",
            "Train Epoch: 1 [6000/60000 (10%)]\t2.083195\n",
            "Train Epoch: 1 [8000/60000 (13%)]\t1.911751\n",
            "Train Epoch: 1 [10000/60000 (17%)]\t1.795214\n",
            "Train Epoch: 1 [12000/60000 (20%)]\t1.753437\n",
            "Train Epoch: 1 [14000/60000 (23%)]\t1.707377\n",
            "Train Epoch: 1 [16000/60000 (27%)]\t1.730260\n",
            "Train Epoch: 1 [18000/60000 (30%)]\t1.719604\n",
            "Train Epoch: 1 [20000/60000 (33%)]\t1.740112\n",
            "Train Epoch: 1 [22000/60000 (37%)]\t1.674569\n",
            "Train Epoch: 1 [24000/60000 (40%)]\t1.678716\n",
            "Train Epoch: 1 [26000/60000 (43%)]\t1.656608\n",
            "Train Epoch: 1 [28000/60000 (47%)]\t1.593560\n",
            "Train Epoch: 1 [30000/60000 (50%)]\t1.688098\n",
            "Train Epoch: 1 [32000/60000 (53%)]\t1.592329\n",
            "Train Epoch: 1 [34000/60000 (57%)]\t1.643809\n",
            "Train Epoch: 1 [36000/60000 (60%)]\t1.660304\n",
            "Train Epoch: 1 [38000/60000 (63%)]\t1.626192\n",
            "Train Epoch: 1 [40000/60000 (67%)]\t1.650550\n",
            "Train Epoch: 1 [42000/60000 (70%)]\t1.644633\n",
            "Train Epoch: 1 [44000/60000 (73%)]\t1.592277\n",
            "Train Epoch: 1 [46000/60000 (77%)]\t1.659134\n",
            "Train Epoch: 1 [48000/60000 (80%)]\t1.618986\n",
            "Train Epoch: 1 [50000/60000 (83%)]\t1.667504\n",
            "Train Epoch: 1 [52000/60000 (87%)]\t1.687326\n",
            "Train Epoch: 1 [54000/60000 (90%)]\t1.616716\n",
            "Train Epoch: 1 [56000/60000 (93%)]\t1.601562\n",
            "Train Epoch: 1 [58000/60000 (97%)]\t1.561207\n",
            "\n",
            "Test set: Average loss:  0.0153, Accuracy 9306/10000 (93%\n",
            ")\n",
            "Train Epoch: 2 [0/60000 (0%)]\t1.628114\n",
            "Train Epoch: 2 [2000/60000 (3%)]\t1.586392\n",
            "Train Epoch: 2 [4000/60000 (7%)]\t1.593257\n",
            "Train Epoch: 2 [6000/60000 (10%)]\t1.581468\n",
            "Train Epoch: 2 [8000/60000 (13%)]\t1.613347\n",
            "Train Epoch: 2 [10000/60000 (17%)]\t1.602958\n",
            "Train Epoch: 2 [12000/60000 (20%)]\t1.565247\n",
            "Train Epoch: 2 [14000/60000 (23%)]\t1.611999\n",
            "Train Epoch: 2 [16000/60000 (27%)]\t1.626727\n",
            "Train Epoch: 2 [18000/60000 (30%)]\t1.608166\n",
            "Train Epoch: 2 [20000/60000 (33%)]\t1.573043\n",
            "Train Epoch: 2 [22000/60000 (37%)]\t1.589321\n",
            "Train Epoch: 2 [24000/60000 (40%)]\t1.620348\n",
            "Train Epoch: 2 [26000/60000 (43%)]\t1.559658\n",
            "Train Epoch: 2 [28000/60000 (47%)]\t1.549200\n",
            "Train Epoch: 2 [30000/60000 (50%)]\t1.643857\n",
            "Train Epoch: 2 [32000/60000 (53%)]\t1.562658\n",
            "Train Epoch: 2 [34000/60000 (57%)]\t1.528191\n",
            "Train Epoch: 2 [36000/60000 (60%)]\t1.556743\n",
            "Train Epoch: 2 [38000/60000 (63%)]\t1.580049\n",
            "Train Epoch: 2 [40000/60000 (67%)]\t1.608415\n",
            "Train Epoch: 2 [42000/60000 (70%)]\t1.609814\n",
            "Train Epoch: 2 [44000/60000 (73%)]\t1.596688\n",
            "Train Epoch: 2 [46000/60000 (77%)]\t1.624637\n",
            "Train Epoch: 2 [48000/60000 (80%)]\t1.555486\n",
            "Train Epoch: 2 [50000/60000 (83%)]\t1.594160\n",
            "Train Epoch: 2 [52000/60000 (87%)]\t1.566874\n",
            "Train Epoch: 2 [54000/60000 (90%)]\t1.626020\n",
            "Train Epoch: 2 [56000/60000 (93%)]\t1.617454\n",
            "Train Epoch: 2 [58000/60000 (97%)]\t1.579423\n",
            "\n",
            "Test set: Average loss:  0.0151, Accuracy 9495/10000 (95%\n",
            ")\n",
            "Train Epoch: 3 [0/60000 (0%)]\t1.597409\n",
            "Train Epoch: 3 [2000/60000 (3%)]\t1.556091\n",
            "Train Epoch: 3 [4000/60000 (7%)]\t1.589291\n",
            "Train Epoch: 3 [6000/60000 (10%)]\t1.605869\n",
            "Train Epoch: 3 [8000/60000 (13%)]\t1.565969\n",
            "Train Epoch: 3 [10000/60000 (17%)]\t1.572003\n",
            "Train Epoch: 3 [12000/60000 (20%)]\t1.565403\n",
            "Train Epoch: 3 [14000/60000 (23%)]\t1.588093\n",
            "Train Epoch: 3 [16000/60000 (27%)]\t1.534656\n",
            "Train Epoch: 3 [18000/60000 (30%)]\t1.564747\n",
            "Train Epoch: 3 [20000/60000 (33%)]\t1.549383\n",
            "Train Epoch: 3 [22000/60000 (37%)]\t1.561651\n",
            "Train Epoch: 3 [24000/60000 (40%)]\t1.636314\n",
            "Train Epoch: 3 [26000/60000 (43%)]\t1.505995\n",
            "Train Epoch: 3 [28000/60000 (47%)]\t1.570512\n",
            "Train Epoch: 3 [30000/60000 (50%)]\t1.551666\n",
            "Train Epoch: 3 [32000/60000 (53%)]\t1.544525\n",
            "Train Epoch: 3 [34000/60000 (57%)]\t1.565614\n",
            "Train Epoch: 3 [36000/60000 (60%)]\t1.506459\n",
            "Train Epoch: 3 [38000/60000 (63%)]\t1.531405\n",
            "Train Epoch: 3 [40000/60000 (67%)]\t1.518652\n",
            "Train Epoch: 3 [42000/60000 (70%)]\t1.571861\n",
            "Train Epoch: 3 [44000/60000 (73%)]\t1.566819\n",
            "Train Epoch: 3 [46000/60000 (77%)]\t1.540404\n",
            "Train Epoch: 3 [48000/60000 (80%)]\t1.578865\n",
            "Train Epoch: 3 [50000/60000 (83%)]\t1.525472\n",
            "Train Epoch: 3 [52000/60000 (87%)]\t1.565438\n",
            "Train Epoch: 3 [54000/60000 (90%)]\t1.574403\n",
            "Train Epoch: 3 [56000/60000 (93%)]\t1.560847\n",
            "Train Epoch: 3 [58000/60000 (97%)]\t1.620525\n",
            "\n",
            "Test set: Average loss:  0.0151, Accuracy 9562/10000 (96%\n",
            ")\n",
            "Train Epoch: 4 [0/60000 (0%)]\t1.557351\n",
            "Train Epoch: 4 [2000/60000 (3%)]\t1.554080\n",
            "Train Epoch: 4 [4000/60000 (7%)]\t1.564727\n",
            "Train Epoch: 4 [6000/60000 (10%)]\t1.547853\n",
            "Train Epoch: 4 [8000/60000 (13%)]\t1.536106\n",
            "Train Epoch: 4 [10000/60000 (17%)]\t1.554676\n",
            "Train Epoch: 4 [12000/60000 (20%)]\t1.538422\n",
            "Train Epoch: 4 [14000/60000 (23%)]\t1.562212\n",
            "Train Epoch: 4 [16000/60000 (27%)]\t1.616653\n",
            "Train Epoch: 4 [18000/60000 (30%)]\t1.523880\n",
            "Train Epoch: 4 [20000/60000 (33%)]\t1.556093\n",
            "Train Epoch: 4 [22000/60000 (37%)]\t1.543156\n",
            "Train Epoch: 4 [24000/60000 (40%)]\t1.514980\n",
            "Train Epoch: 4 [26000/60000 (43%)]\t1.519021\n",
            "Train Epoch: 4 [28000/60000 (47%)]\t1.580483\n",
            "Train Epoch: 4 [30000/60000 (50%)]\t1.537584\n",
            "Train Epoch: 4 [32000/60000 (53%)]\t1.564170\n",
            "Train Epoch: 4 [34000/60000 (57%)]\t1.581567\n",
            "Train Epoch: 4 [36000/60000 (60%)]\t1.522574\n",
            "Train Epoch: 4 [38000/60000 (63%)]\t1.548207\n",
            "Train Epoch: 4 [40000/60000 (67%)]\t1.549740\n",
            "Train Epoch: 4 [42000/60000 (70%)]\t1.552871\n",
            "Train Epoch: 4 [44000/60000 (73%)]\t1.603285\n",
            "Train Epoch: 4 [46000/60000 (77%)]\t1.557436\n",
            "Train Epoch: 4 [48000/60000 (80%)]\t1.546809\n",
            "Train Epoch: 4 [50000/60000 (83%)]\t1.541736\n",
            "Train Epoch: 4 [52000/60000 (87%)]\t1.538761\n",
            "Train Epoch: 4 [54000/60000 (90%)]\t1.568371\n",
            "Train Epoch: 4 [56000/60000 (93%)]\t1.570181\n",
            "Train Epoch: 4 [58000/60000 (97%)]\t1.533617\n",
            "\n",
            "Test set: Average loss:  0.0150, Accuracy 9607/10000 (96%\n",
            ")\n",
            "Train Epoch: 5 [0/60000 (0%)]\t1.569663\n",
            "Train Epoch: 5 [2000/60000 (3%)]\t1.534364\n",
            "Train Epoch: 5 [4000/60000 (7%)]\t1.548478\n",
            "Train Epoch: 5 [6000/60000 (10%)]\t1.542111\n",
            "Train Epoch: 5 [8000/60000 (13%)]\t1.554230\n",
            "Train Epoch: 5 [10000/60000 (17%)]\t1.614272\n",
            "Train Epoch: 5 [12000/60000 (20%)]\t1.513058\n",
            "Train Epoch: 5 [14000/60000 (23%)]\t1.562199\n",
            "Train Epoch: 5 [16000/60000 (27%)]\t1.568215\n",
            "Train Epoch: 5 [18000/60000 (30%)]\t1.521883\n",
            "Train Epoch: 5 [20000/60000 (33%)]\t1.571407\n",
            "Train Epoch: 5 [22000/60000 (37%)]\t1.498180\n",
            "Train Epoch: 5 [24000/60000 (40%)]\t1.528662\n",
            "Train Epoch: 5 [26000/60000 (43%)]\t1.502875\n",
            "Train Epoch: 5 [28000/60000 (47%)]\t1.532290\n",
            "Train Epoch: 5 [30000/60000 (50%)]\t1.509748\n",
            "Train Epoch: 5 [32000/60000 (53%)]\t1.549539\n",
            "Train Epoch: 5 [34000/60000 (57%)]\t1.507765\n",
            "Train Epoch: 5 [36000/60000 (60%)]\t1.574234\n",
            "Train Epoch: 5 [38000/60000 (63%)]\t1.550373\n",
            "Train Epoch: 5 [40000/60000 (67%)]\t1.559507\n",
            "Train Epoch: 5 [42000/60000 (70%)]\t1.482917\n",
            "Train Epoch: 5 [44000/60000 (73%)]\t1.560955\n",
            "Train Epoch: 5 [46000/60000 (77%)]\t1.546834\n",
            "Train Epoch: 5 [48000/60000 (80%)]\t1.535514\n",
            "Train Epoch: 5 [50000/60000 (83%)]\t1.542866\n",
            "Train Epoch: 5 [52000/60000 (87%)]\t1.550357\n",
            "Train Epoch: 5 [54000/60000 (90%)]\t1.582084\n",
            "Train Epoch: 5 [56000/60000 (93%)]\t1.534684\n",
            "Train Epoch: 5 [58000/60000 (97%)]\t1.555403\n",
            "\n",
            "Test set: Average loss:  0.0150, Accuracy 9660/10000 (97%\n",
            ")\n",
            "Train Epoch: 6 [0/60000 (0%)]\t1.526758\n",
            "Train Epoch: 6 [2000/60000 (3%)]\t1.549067\n",
            "Train Epoch: 6 [4000/60000 (7%)]\t1.579661\n",
            "Train Epoch: 6 [6000/60000 (10%)]\t1.566377\n",
            "Train Epoch: 6 [8000/60000 (13%)]\t1.534111\n",
            "Train Epoch: 6 [10000/60000 (17%)]\t1.569870\n",
            "Train Epoch: 6 [12000/60000 (20%)]\t1.517204\n",
            "Train Epoch: 6 [14000/60000 (23%)]\t1.514391\n",
            "Train Epoch: 6 [16000/60000 (27%)]\t1.538404\n",
            "Train Epoch: 6 [18000/60000 (30%)]\t1.548835\n",
            "Train Epoch: 6 [20000/60000 (33%)]\t1.515848\n",
            "Train Epoch: 6 [22000/60000 (37%)]\t1.576359\n",
            "Train Epoch: 6 [24000/60000 (40%)]\t1.542687\n",
            "Train Epoch: 6 [26000/60000 (43%)]\t1.556191\n",
            "Train Epoch: 6 [28000/60000 (47%)]\t1.578044\n",
            "Train Epoch: 6 [30000/60000 (50%)]\t1.511268\n",
            "Train Epoch: 6 [32000/60000 (53%)]\t1.520072\n",
            "Train Epoch: 6 [34000/60000 (57%)]\t1.574397\n",
            "Train Epoch: 6 [36000/60000 (60%)]\t1.518886\n",
            "Train Epoch: 6 [38000/60000 (63%)]\t1.513429\n",
            "Train Epoch: 6 [40000/60000 (67%)]\t1.538846\n",
            "Train Epoch: 6 [42000/60000 (70%)]\t1.550915\n",
            "Train Epoch: 6 [44000/60000 (73%)]\t1.533992\n",
            "Train Epoch: 6 [46000/60000 (77%)]\t1.530940\n",
            "Train Epoch: 6 [48000/60000 (80%)]\t1.546807\n",
            "Train Epoch: 6 [50000/60000 (83%)]\t1.506104\n",
            "Train Epoch: 6 [52000/60000 (87%)]\t1.511923\n",
            "Train Epoch: 6 [54000/60000 (90%)]\t1.546809\n",
            "Train Epoch: 6 [56000/60000 (93%)]\t1.564879\n",
            "Train Epoch: 6 [58000/60000 (97%)]\t1.526933\n",
            "\n",
            "Test set: Average loss:  0.0149, Accuracy 9696/10000 (97%\n",
            ")\n",
            "Train Epoch: 7 [0/60000 (0%)]\t1.532833\n",
            "Train Epoch: 7 [2000/60000 (3%)]\t1.536606\n",
            "Train Epoch: 7 [4000/60000 (7%)]\t1.501738\n",
            "Train Epoch: 7 [6000/60000 (10%)]\t1.564012\n",
            "Train Epoch: 7 [8000/60000 (13%)]\t1.543642\n",
            "Train Epoch: 7 [10000/60000 (17%)]\t1.543002\n",
            "Train Epoch: 7 [12000/60000 (20%)]\t1.547193\n",
            "Train Epoch: 7 [14000/60000 (23%)]\t1.540686\n",
            "Train Epoch: 7 [16000/60000 (27%)]\t1.507682\n",
            "Train Epoch: 7 [18000/60000 (30%)]\t1.506756\n",
            "Train Epoch: 7 [20000/60000 (33%)]\t1.527214\n",
            "Train Epoch: 7 [22000/60000 (37%)]\t1.550992\n",
            "Train Epoch: 7 [24000/60000 (40%)]\t1.528620\n",
            "Train Epoch: 7 [26000/60000 (43%)]\t1.523740\n",
            "Train Epoch: 7 [28000/60000 (47%)]\t1.532493\n",
            "Train Epoch: 7 [30000/60000 (50%)]\t1.545932\n",
            "Train Epoch: 7 [32000/60000 (53%)]\t1.529795\n",
            "Train Epoch: 7 [34000/60000 (57%)]\t1.511078\n",
            "Train Epoch: 7 [36000/60000 (60%)]\t1.563627\n",
            "Train Epoch: 7 [38000/60000 (63%)]\t1.515846\n",
            "Train Epoch: 7 [40000/60000 (67%)]\t1.563114\n",
            "Train Epoch: 7 [42000/60000 (70%)]\t1.524209\n",
            "Train Epoch: 7 [44000/60000 (73%)]\t1.524571\n",
            "Train Epoch: 7 [46000/60000 (77%)]\t1.519175\n",
            "Train Epoch: 7 [48000/60000 (80%)]\t1.545192\n",
            "Train Epoch: 7 [50000/60000 (83%)]\t1.553777\n",
            "Train Epoch: 7 [52000/60000 (87%)]\t1.520928\n",
            "Train Epoch: 7 [54000/60000 (90%)]\t1.543065\n",
            "Train Epoch: 7 [56000/60000 (93%)]\t1.509617\n",
            "Train Epoch: 7 [58000/60000 (97%)]\t1.561178\n",
            "\n",
            "Test set: Average loss:  0.0149, Accuracy 9724/10000 (97%\n",
            ")\n",
            "Train Epoch: 8 [0/60000 (0%)]\t1.559631\n",
            "Train Epoch: 8 [2000/60000 (3%)]\t1.518693\n",
            "Train Epoch: 8 [4000/60000 (7%)]\t1.540876\n",
            "Train Epoch: 8 [6000/60000 (10%)]\t1.524039\n",
            "Train Epoch: 8 [8000/60000 (13%)]\t1.532634\n",
            "Train Epoch: 8 [10000/60000 (17%)]\t1.546300\n",
            "Train Epoch: 8 [12000/60000 (20%)]\t1.524832\n",
            "Train Epoch: 8 [14000/60000 (23%)]\t1.578269\n",
            "Train Epoch: 8 [16000/60000 (27%)]\t1.522990\n",
            "Train Epoch: 8 [18000/60000 (30%)]\t1.552830\n",
            "Train Epoch: 8 [20000/60000 (33%)]\t1.498506\n",
            "Train Epoch: 8 [22000/60000 (37%)]\t1.566404\n",
            "Train Epoch: 8 [24000/60000 (40%)]\t1.531987\n",
            "Train Epoch: 8 [26000/60000 (43%)]\t1.510616\n",
            "Train Epoch: 8 [28000/60000 (47%)]\t1.533577\n",
            "Train Epoch: 8 [30000/60000 (50%)]\t1.516634\n",
            "Train Epoch: 8 [32000/60000 (53%)]\t1.535125\n",
            "Train Epoch: 8 [34000/60000 (57%)]\t1.549055\n",
            "Train Epoch: 8 [36000/60000 (60%)]\t1.580461\n",
            "Train Epoch: 8 [38000/60000 (63%)]\t1.552950\n",
            "Train Epoch: 8 [40000/60000 (67%)]\t1.525352\n",
            "Train Epoch: 8 [42000/60000 (70%)]\t1.558570\n",
            "Train Epoch: 8 [44000/60000 (73%)]\t1.492133\n",
            "Train Epoch: 8 [46000/60000 (77%)]\t1.549420\n",
            "Train Epoch: 8 [48000/60000 (80%)]\t1.539836\n",
            "Train Epoch: 8 [50000/60000 (83%)]\t1.524554\n",
            "Train Epoch: 8 [52000/60000 (87%)]\t1.578481\n",
            "Train Epoch: 8 [54000/60000 (90%)]\t1.566459\n",
            "Train Epoch: 8 [56000/60000 (93%)]\t1.503440\n",
            "Train Epoch: 8 [58000/60000 (97%)]\t1.530638\n",
            "\n",
            "Test set: Average loss:  0.0149, Accuracy 9737/10000 (97%\n",
            ")\n",
            "Train Epoch: 9 [0/60000 (0%)]\t1.478949\n",
            "Train Epoch: 9 [2000/60000 (3%)]\t1.539579\n",
            "Train Epoch: 9 [4000/60000 (7%)]\t1.541734\n",
            "Train Epoch: 9 [6000/60000 (10%)]\t1.539798\n",
            "Train Epoch: 9 [8000/60000 (13%)]\t1.535860\n",
            "Train Epoch: 9 [10000/60000 (17%)]\t1.553800\n",
            "Train Epoch: 9 [12000/60000 (20%)]\t1.579785\n",
            "Train Epoch: 9 [14000/60000 (23%)]\t1.517944\n",
            "Train Epoch: 9 [16000/60000 (27%)]\t1.527140\n",
            "Train Epoch: 9 [18000/60000 (30%)]\t1.502325\n",
            "Train Epoch: 9 [20000/60000 (33%)]\t1.522087\n",
            "Train Epoch: 9 [22000/60000 (37%)]\t1.504720\n",
            "Train Epoch: 9 [24000/60000 (40%)]\t1.574045\n",
            "Train Epoch: 9 [26000/60000 (43%)]\t1.491016\n",
            "Train Epoch: 9 [28000/60000 (47%)]\t1.473106\n",
            "Train Epoch: 9 [30000/60000 (50%)]\t1.511474\n",
            "Train Epoch: 9 [32000/60000 (53%)]\t1.511318\n",
            "Train Epoch: 9 [34000/60000 (57%)]\t1.532032\n",
            "Train Epoch: 9 [36000/60000 (60%)]\t1.550775\n",
            "Train Epoch: 9 [38000/60000 (63%)]\t1.527693\n",
            "Train Epoch: 9 [40000/60000 (67%)]\t1.601288\n",
            "Train Epoch: 9 [42000/60000 (70%)]\t1.499175\n",
            "Train Epoch: 9 [44000/60000 (73%)]\t1.511775\n",
            "Train Epoch: 9 [46000/60000 (77%)]\t1.518808\n",
            "Train Epoch: 9 [48000/60000 (80%)]\t1.482907\n",
            "Train Epoch: 9 [50000/60000 (83%)]\t1.490863\n",
            "Train Epoch: 9 [52000/60000 (87%)]\t1.510518\n",
            "Train Epoch: 9 [54000/60000 (90%)]\t1.497173\n",
            "Train Epoch: 9 [56000/60000 (93%)]\t1.524578\n",
            "Train Epoch: 9 [58000/60000 (97%)]\t1.496148\n",
            "\n",
            "Test set: Average loss:  0.0149, Accuracy 9749/10000 (97%\n",
            ")\n",
            "Train Epoch: 10 [0/60000 (0%)]\t1.500817\n",
            "Train Epoch: 10 [2000/60000 (3%)]\t1.504052\n",
            "Train Epoch: 10 [4000/60000 (7%)]\t1.534203\n",
            "Train Epoch: 10 [6000/60000 (10%)]\t1.533273\n",
            "Train Epoch: 10 [8000/60000 (13%)]\t1.533580\n",
            "Train Epoch: 10 [10000/60000 (17%)]\t1.497726\n",
            "Train Epoch: 10 [12000/60000 (20%)]\t1.511952\n",
            "Train Epoch: 10 [14000/60000 (23%)]\t1.519209\n",
            "Train Epoch: 10 [16000/60000 (27%)]\t1.505636\n",
            "Train Epoch: 10 [18000/60000 (30%)]\t1.475492\n",
            "Train Epoch: 10 [20000/60000 (33%)]\t1.508068\n",
            "Train Epoch: 10 [22000/60000 (37%)]\t1.543801\n",
            "Train Epoch: 10 [24000/60000 (40%)]\t1.558505\n",
            "Train Epoch: 10 [26000/60000 (43%)]\t1.562041\n",
            "Train Epoch: 10 [28000/60000 (47%)]\t1.536629\n",
            "Train Epoch: 10 [30000/60000 (50%)]\t1.508519\n",
            "Train Epoch: 10 [32000/60000 (53%)]\t1.544715\n",
            "Train Epoch: 10 [34000/60000 (57%)]\t1.540617\n",
            "Train Epoch: 10 [36000/60000 (60%)]\t1.500091\n",
            "Train Epoch: 10 [38000/60000 (63%)]\t1.527988\n",
            "Train Epoch: 10 [40000/60000 (67%)]\t1.514724\n",
            "Train Epoch: 10 [42000/60000 (70%)]\t1.514544\n",
            "Train Epoch: 10 [44000/60000 (73%)]\t1.544254\n",
            "Train Epoch: 10 [46000/60000 (77%)]\t1.516128\n",
            "Train Epoch: 10 [48000/60000 (80%)]\t1.494483\n",
            "Train Epoch: 10 [50000/60000 (83%)]\t1.519233\n",
            "Train Epoch: 10 [52000/60000 (87%)]\t1.524129\n",
            "Train Epoch: 10 [54000/60000 (90%)]\t1.500439\n",
            "Train Epoch: 10 [56000/60000 (93%)]\t1.506441\n",
            "Train Epoch: 10 [58000/60000 (97%)]\t1.472668\n",
            "\n",
            "Test set: Average loss:  0.0149, Accuracy 9763/10000 (98%\n",
            ")\n"
          ]
        }
      ]
    },
    {
      "cell_type": "code",
      "source": [
        "import matplotlib.pyplot as plt\n",
        "\n",
        "model.eval()\n",
        "data, target = test_data[10]\n",
        "data = data.unsqueeze(0).to(device)\n",
        "output = model(data)\n",
        "prediction = output.argmax(dim=1, keepdim=True).item()\n",
        "\n",
        "print(f'Prediction: {prediction}')\n",
        "\n",
        "image = data.squeeze(0).squeeze(0).cpu().numpy()\n",
        "\n",
        "plt.imshow(image, cmap='gray')\n",
        "plt.show()"
      ],
      "metadata": {
        "colab": {
          "base_uri": "https://localhost:8080/",
          "height": 482
        },
        "id": "oqbUW0tm4Cw-",
        "outputId": "3983e872-854d-4e6a-8abb-c467593ca8de"
      },
      "execution_count": null,
      "outputs": [
        {
          "output_type": "stream",
          "name": "stderr",
          "text": [
            "<ipython-input-6-eddcbdcee1af>:24: UserWarning: Implicit dimension choice for softmax has been deprecated. Change the call to include dim=X as an argument.\n",
            "  return F.softmax(x)\n"
          ]
        },
        {
          "output_type": "stream",
          "name": "stdout",
          "text": [
            "Prediction: 0\n"
          ]
        },
        {
          "output_type": "display_data",
          "data": {
            "text/plain": [
              "<Figure size 640x480 with 1 Axes>"
            ],
            "image/png": "[encoded data removed]"
          },
          "metadata": {}
        }
      ]
    },
    {
      "cell_type": "code",
      "source": [],
      "metadata": {
        "id": "_PuLzO_04suO"
      },
      "execution_count": null,
      "outputs": []
    }
  ]
}